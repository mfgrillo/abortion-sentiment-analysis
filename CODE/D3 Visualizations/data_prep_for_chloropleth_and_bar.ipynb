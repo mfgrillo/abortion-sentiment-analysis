{
 "cells": [
  {
   "cell_type": "code",
   "execution_count": null,
   "id": "9e082679",
   "metadata": {},
   "outputs": [],
   "source": [
    "import pandas as pd\n",
    "import re\n",
    "\n",
    "us_state_abbrev = {\n",
    "            'AL': 'Alabama',\n",
    "            'AK': 'Alaska',\n",
    "            'AZ': 'Arizona',\n",
    "            'AR': 'Arkansas',\n",
    "            'CA': 'California',\n",
    "            'CO': 'Colorado',\n",
    "            'CT': 'Connecticut',\n",
    "            'DE': 'Delaware',\n",
    "            'FL': 'Florida',\n",
    "            'GA': 'Georgia',\n",
    "            'HI': 'Hawaii',\n",
    "            'ID': 'Idaho',\n",
    "            'IL': 'Illinois',\n",
    "            'IN': 'Indiana',\n",
    "            'IA': 'Iowa',\n",
    "            'KS': 'Kansas',\n",
    "            'KY': 'Kentucky',\n",
    "            'LA': 'Louisiana',\n",
    "            'ME': 'Maine',\n",
    "            'MD': 'Maryland',\n",
    "            'MA': 'Massachusetts',\n",
    "            'MI': 'Michigan',\n",
    "            'MN': 'Minnesota',\n",
    "            'MS': 'Mississippi',\n",
    "            'MO': 'Missouri',\n",
    "            'MT': 'Montana',\n",
    "            'NE': 'Nebraska',\n",
    "            'NV': 'Nevada',\n",
    "            'NH': 'New Hampshire',\n",
    "            'NJ': 'New Jersey',\n",
    "            'NM': 'New Mexico',\n",
    "            'NY': 'New York',\n",
    "            'NC': 'North Carolina',\n",
    "            'ND': 'North Dakota',\n",
    "            'OH': 'Ohio',\n",
    "            'OK': 'Oklahoma',\n",
    "            'OR': 'Oregon',\n",
    "            'PA': 'Pennsylvania',\n",
    "            'RI': 'Rhode Island',\n",
    "            'SC': 'South Carolina',\n",
    "            'SD': 'South Dakota',\n",
    "            'TN': 'Tennessee',\n",
    "            'TX': 'Texas',\n",
    "            'UT': 'Utah',\n",
    "            'VT': 'Vermont',\n",
    "            'VA': 'Virginia',\n",
    "            'WA': 'Washington',\n",
    "            'WV': 'West Virginia',\n",
    "            'WI': 'Wisconsin',\n",
    "            'WY': 'Wyoming',\n",
    "            'DC': 'District of Columbia',\n",
    "            'MP': 'Northern Mariana Islands',\n",
    "            'PW': 'Palau',\n",
    "            'PR': 'Puerto Rico',\n",
    "            'VI': 'Virgin Islands',\n",
    "            'AA': 'Armed Forces Americas (Except Canada)',\n",
    "            'AE': 'Armed Forces Africa/Canada/Europe/Middle East',\n",
    "            'AP': 'Armed Forces Pacific'\n",
    "        }\n",
    "\n",
    "state_names = [\"Alaska\", \"Alabama\", \"Arkansas\", \"Arizona\", \"California\", \"Colorado\", \"Connecticut\", \"District of Columbia\", \"Delaware\", \"Florida\", \"Georgia\", \"Guam\", \"Hawaii\", \"Iowa\", \"Idaho\", \"Illinois\", \"Indiana\", \"Kansas\", \"Kentucky\", \"Louisiana\", \"Massachusetts\", \"Maryland\", \"Maine\", \"Michigan\", \"Minnesota\", \"Missouri\", \"Mississippi\", \"Montana\", \"North Carolina\", \"North Dakota\", \"Nebraska\", \"New Hampshire\", \"New Jersey\", \"New Mexico\", \"Nevada\", \"New York\", \"Ohio\", \"Oklahoma\", \"Oregon\", \"Pennsylvania\", \"Rhode Island\", \"South Carolina\", \"South Dakota\", \"Tennessee\", \"Texas\", \"Utah\", \"Virginia\", \"Virgin Islands\", \"Vermont\", \"Washington\", \"Wisconsin\", \"West Virginia\", \"Wyoming\"]\n",
    "\n",
    "dem_states = [\"Arizona\", \"California\", \"Colorado\", \"Connecticut\", \"Delaware\", \"District of Columbia\",\n",
    "             \"Georgia\", \"Hawaii\", \"Illinois\", \"Maine\", \"Maryland\", \"Massachusetts\", \"Michigan\",\n",
    "             \"Minnesota\", \"Nevada\", \"New Hampshire\", \"New Jersey\", \"New Mexico\", \"New York\",\n",
    "             \"Oregon\", \"Pennsylvania\", \"Rhode Island\", \"Vermont\", \"Virginia\", \"Washington\",\n",
    "             \"Wisconsin\"]\n",
    "\n",
    "rep_states = [\"Alabama\", \"Alaska\", \"Arkansas\", \"Florida\", \"Idaho\", \"Indiana\", \"Iowa\", \"Kansas\",\n",
    "             \"Kentucky\", \"Louisiana\", \"Mississippi\", \"Missouri\", \"Montana\", \"Nebraska\",\n",
    "             \"North Carolina\", \"North Dakota\", \"Ohio\", \"Oklahoma\", \"South Carolina\",\n",
    "             \"South Dakota\", \"Tennessee\", \"Texas\", \"Utah\", \"West Virginia\", \"Wyoming\"]\n",
    "\n",
    "state_regex = r'(AL|AK|AZ|AR|CA|CO|CT|DE|FL|GA|HI|ID|IL|IN|IA|KS|KY|LA|ME|MD|MA|MI|MN|MS|MO|MT|NE|NV|NH|NJ|NM|NY|NC|ND|OH|OK|OR|PA|RI|SC|SD|TN|TX|UT|VT|VA|WA|WV|WI|WY|Alabama|Alaska|Arizona|Arkansas|California|Colorado|Connecticut|Delaware|District of Columbia|Florida|Georgia|Hawaii|Idaho|Illinois|Indiana|Iowa|Kansas|Kentucky|Louisiana|Maine|Maryland|Massachusetts|Michigan|Minnesota|Mississippi|Missouri|Montana|Nebraska|Nevada|New Hampshire|New Jersey|New Mexico|New York|North Carolina|North Dakota|Ohio|Oklahoma|Oregon|Pennsylvania|Rhode Island|South Carolina|South Dakota|Tennessee|Texas|Utah|Vermont|Virginia|Washington|West Virginia|Wisconsin|Wyoming)'"
   ]
  },
  {
   "cell_type": "markdown",
   "id": "7b42e1b5",
   "metadata": {},
   "source": [
    "Prepare sentiment files for visualizations"
   ]
  },
  {
   "cell_type": "code",
   "execution_count": null,
   "id": "13ed6e4b",
   "metadata": {},
   "outputs": [],
   "source": [
    "def transformation(OldValue):\n",
    "    NewValue = ((OldValue + 1) / 2)\n",
    "    return NewValue\n",
    "\n",
    "def ReApplyTags(sent_score):\n",
    "    if sent_score < 0.125:\n",
    "        return 'Strongly Negative'\n",
    "    elif sent_score < 0.375:\n",
    "        return 'Mildly Negative'\n",
    "    elif sent_score < 0.625:\n",
    "        return 'Neutral'\n",
    "    elif sent_score < 0.875:\n",
    "        return 'Mildly Positive'\n",
    "    else:\n",
    "        return 'Strongly Positive'"
   ]
  },
  {
   "cell_type": "markdown",
   "id": "66b1234d",
   "metadata": {},
   "source": [
    "Chloropleth"
   ]
  },
  {
   "cell_type": "code",
   "execution_count": null,
   "id": "0a9ff245",
   "metadata": {},
   "outputs": [],
   "source": [
    "prochoice = ['output_#Abortion.csv', 'output_#Abortionban.csv',\n",
    "            'output_#AbortionIsHealthcare.csv', 'output_#Abortionrights.csv',\n",
    "            'output_#AbortionRightsAreHumanRights.csv', 'output_#Safeabortion.csv',\n",
    "            'output_#Women.csv', 'output_#WomensReproductiveRights.csv',\n",
    "            'output_#Womensrights.csv']\n",
    "\n",
    "\n",
    "df_choice = pd.read_csv('raw_pull_sentiment_outputs/prochoice/outout_#prochoice.csv')\n",
    "\n",
    "for i in prochoice:\n",
    "    add = pd.read_csv('raw_pull_sentiment_outputs/prochoice/' + i)\n",
    "    df_choice = pd.concat([df_choice, add])\n",
    "df_choice = df_choice[['location', 'sentiment_score','sentiment']]"
   ]
  },
  {
   "cell_type": "code",
   "execution_count": null,
   "id": "6844f95e",
   "metadata": {},
   "outputs": [],
   "source": [
    "df_choice['location'] = df_choice['location'].str.extract(state_regex, expand=False)\n",
    "df_choice['location'] = df_choice['location'].replace(us_state_abbrev)\n",
    "df_choice = df_choice.dropna()\n",
    "df_choice.head()\n",
    "\n",
    "df_choice = df_choice.groupby('location').agg({'sentiment_score': 'mean'}).reset_index()\n",
    "df_choice['Rank'] = 1\n",
    "\n",
    "df_choice['sentiment_score'] = df_choice['sentiment_score'].apply(transformation)\n",
    "\n",
    "df_choice.to_csv('df_choice.csv',index=False)"
   ]
  },
  {
   "cell_type": "code",
   "execution_count": null,
   "id": "ab6f2270",
   "metadata": {},
   "outputs": [],
   "source": [
    "prolife = ['output_#banabortion.csv', 'output_#CatholicTwitter.csv',\n",
    "            'output_#ChristianTwitter.csv', 'output_#EndAbortion.csv',\n",
    "            'output_#Life.csv', 'output_#prolife.csv',\n",
    "            'output_#Stillife.csv', 'output_#Stopkillingbabies.csv',\n",
    "            'output_#UnbornLivesMatter.csv']\n",
    "\n",
    "\n",
    "df_life = pd.read_csv('raw_pull_sentiment_outputs/prolife/output_#AbortionIsMurder.csv')\n",
    "\n",
    "for i in prolife:\n",
    "    add = pd.read_csv('raw_pull_sentiment_outputs/prolife/' + i, engine='python')\n",
    "    df_life = pd.concat([df_life, add])\n",
    "df_life = df_life[['location', 'sentiment_score','sentiment']]"
   ]
  },
  {
   "cell_type": "code",
   "execution_count": null,
   "id": "88b46184",
   "metadata": {
    "scrolled": true
   },
   "outputs": [],
   "source": [
    "df_life['location'] = df_life['location'].str.extract(state_regex, expand=False)\n",
    "df_life['location'] = df_life['location'].replace(us_state_abbrev)\n",
    "df_life = df_life.dropna()\n",
    "df_life.head()\n",
    "\n",
    "df_life = df_life.groupby('location').agg({'sentiment_score': 'mean'}).reset_index()\n",
    "df_life['Rank'] = 1\n",
    "\n",
    "df_life['sentiment_score'] = df_life['sentiment_score'].apply(transformation)\n",
    "df_life.to_csv('df_life.csv',index=False)"
   ]
  },
  {
   "cell_type": "markdown",
   "id": "d3edf176",
   "metadata": {},
   "source": [
    "Bar Chart"
   ]
  },
  {
   "cell_type": "code",
   "execution_count": null,
   "id": "acea4b04",
   "metadata": {},
   "outputs": [],
   "source": [
    "df_dem_choice = df_choice[df_choice['location'].isin(dem_states)]\n",
    "df_rep_choice = df_choice[df_choice['location'].isin(rep_states)]\n",
    "\n",
    "\n",
    "dem_list_choice = []\n",
    "rep_list_choice = []\n",
    "\n",
    "for i in range(len(df_dem_choice)):\n",
    "    dem_list_choice.append({'group': df_dem_choice.iloc[i]['location'], 'value': df_dem_choice.iloc[i]['sentiment_score']})\n",
    "    \n",
    "for i in range(len(df_rep_choice)):\n",
    "    rep_list_choice.append({'group': df_rep_choice.iloc[i]['location'], 'value': df_rep_choice.iloc[i]['sentiment_score']})\n",
    "\n",
    "    \n",
    "# These outputs can be pasted directly into the html file for the bar charts\n",
    "print(dem_list_choice)\n",
    "print('\\n')\n",
    "print(rep_list_choice)"
   ]
  },
  {
   "cell_type": "code",
   "execution_count": null,
   "id": "4cea9cdc",
   "metadata": {},
   "outputs": [],
   "source": [
    "df_dem_life = df_life[df_life['location'].isin(dem_states)]\n",
    "df_rep_life = df_life[df_life['location'].isin(rep_states)]\n",
    "\n",
    "dem_list_life = []\n",
    "rep_list_life = []\n",
    "\n",
    "for i in range(len(df_dem_life)):\n",
    "    dem_list_life.append({'group': df_dem_life.iloc[i]['location'], 'value': df_dem_life.iloc[i]['sentiment_score']})\n",
    "    \n",
    "for i in range(len(df_rep_life)):\n",
    "    rep_list_life.append({'group': df_rep_life.iloc[i]['location'], 'value': df_rep_life.iloc[i]['sentiment_score']})\n",
    "\n",
    "    \n",
    "# These outputs can be pasted directly into the html file for the bar charts\n",
    "print(dem_list_life)\n",
    "print('\\n')\n",
    "print(rep_list_life)"
   ]
  }
 ],
 "metadata": {
  "kernelspec": {
   "display_name": "Python 3 (ipykernel)",
   "language": "python",
   "name": "python3"
  },
  "language_info": {
   "codemirror_mode": {
    "name": "ipython",
    "version": 3
   },
   "file_extension": ".py",
   "mimetype": "text/x-python",
   "name": "python",
   "nbconvert_exporter": "python",
   "pygments_lexer": "ipython3",
   "version": "3.9.12"
  }
 },
 "nbformat": 4,
 "nbformat_minor": 5
}
